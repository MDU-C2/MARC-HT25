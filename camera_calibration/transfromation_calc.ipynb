{
 "cells": [
  {
   "cell_type": "code",
   "execution_count": 20,
   "id": "c5be5c92",
   "metadata": {},
   "outputs": [],
   "source": [
    "import numpy as np\n",
    "import cv2 as cv\n",
    "from scipy.spatial.transform import Rotation"
   ]
  },
  {
   "cell_type": "code",
   "execution_count": null,
   "id": "76b7f369",
   "metadata": {},
   "outputs": [],
   "source": [
    "# rvec_g2b: rotation of the gripper w.r.t. base (Rodrigues vec, radians)\n",
    "rvec_g2b = [\n",
    "    [0.0,      0.0,      0.0     ],   \n",
    "    [0.0,      0.0,      0.17453 ],   \n",
    "    [0.17453,  0.0,      0.0     ],   \n",
    "    [0.0,      0.17453,  0.0     ],   \n",
    "]\n",
    "\n",
    "# t_g2b: translation of the gripper w.r.t. base (meters)\n",
    "t_g2b = [\n",
    "    [0.10,  0.00,  0.20],  \n",
    "    [0.12,  0.02,  0.22],  \n",
    "    [0.08, -0.03,  0.25],  \n",
    "    [0.15,  0.01,  0.18],  \n",
    "]\n",
    "\n",
    "# rvec_t2c: rotation of the board w.r.t. camera (Rodrigues vec, radians)\n",
    "rvec_t2c = [\n",
    "    [0.0,     0.0,     0.26180],  \n",
    "    [0.0,     0.0,     0.52360],  \n",
    "    [0.17453, 0.0,     0.26180],  \n",
    "    [0.0,     0.17453, 0.34907],  \n",
    "]\n",
    "\n",
    "# t_t2c: translation of the board w.r.t. camera (meters)\n",
    "t_t2c = [\n",
    "    [-0.10,  0.02,  0.50],  \n",
    "    [-0.12,  0.01,  0.50],\n",
    "    [-0.09, -0.02,  0.52],\n",
    "    [-0.11,  0.03,  0.48],\n",
    "]\n"
   ]
  },
  {
   "cell_type": "code",
   "execution_count": 23,
   "id": "0fcae6ec",
   "metadata": {},
   "outputs": [
    {
     "name": "stdout",
     "output_type": "stream",
     "text": [
      "Rotation matrix, R_cam2gripper:\n",
      " [[-0.88020223 -0.16934094  0.44335953]\n",
      " [ 0.05307978 -0.96344187 -0.26260676]\n",
      " [ 0.47162121 -0.20761363  0.85701226]]\n",
      "Traslation vector, t_cam2gripper:\n",
      " [[ 0.52819628]\n",
      " [-2.87262804]\n",
      " [-0.61381073]]\n",
      "Quaternion based on rotation matrix from cam2gripper: \n",
      " [ 0.23781683 -0.12221713  0.96185451  0.05781038]\n"
     ]
    }
   ],
   "source": [
    "import numpy as np, cv2 as cv\n",
    "\n",
    "# Convert rvec lists into rotation matrices, and make (3,1) translation vectors\n",
    "R_g2b = [cv.Rodrigues(np.array(rv, np.float64))[0] for rv in rvec_g2b]\n",
    "t_g2b = [np.array(tv, np.float64).reshape(3,1)     for tv in t_g2b]\n",
    "\n",
    "R_t2c = [cv.Rodrigues(np.array(rv, np.float64))[0] for rv in rvec_t2c]\n",
    "t_t2c = [np.array(tv, np.float64).reshape(3,1)     for tv in t_t2c]\n",
    "\n",
    "R_cam2gripper, t_cam2gripper = cv.calibrateHandEye(\n",
    "    R_gripper2base=R_g2b, t_gripper2base=t_g2b,\n",
    "    R_target2cam=R_t2c,   t_target2cam=t_t2c,\n",
    "    method=cv.CALIB_HAND_EYE_DANIILIDIS\n",
    ")\n",
    "\n",
    "# Use pose 0 as \"current\" gripper->base:\n",
    "T_BG_now = np.eye(4)\n",
    "T_BG_now[:3,:3] = R_g2b[0]\n",
    "T_BG_now[:3, 3] = np.array(t_g2b[0]).reshape(3)\n",
    "\n",
    "print(\"Rotation matrix, R_cam2gripper:\\n\", R_cam2gripper)\n",
    "print(\"Traslation vector, t_cam2gripper:\\n\", t_cam2gripper)\n",
    "rotation = Rotation.from_matrix(R_cam2gripper)\n",
    "quaternion = rotation.as_quat()\n",
    "print(\"Quaternion based on rotation matrix from cam2gripper: \\n\",quaternion)\n"
   ]
  },
  {
   "cell_type": "code",
   "execution_count": null,
   "id": "157e1533",
   "metadata": {},
   "outputs": [
    {
     "name": "stdout",
     "output_type": "stream",
     "text": [
      "[[1.  0.  0.  0.1]\n",
      " [0.  1.  0.  0. ]\n",
      " [0.  0.  1.  0.2]\n",
      " [0.  0.  0.  1. ]]\n",
      "p_base: [ 0.76152998 -2.97501676 -0.04742477]\n"
     ]
    }
   ],
   "source": [
    "# Use pose 0 as \"current\" gripper->base:\n",
    "T_BG_now = np.eye(4)\n",
    "T_BG_now[:3,:3] = R_g2b[0]\n",
    "T_BG_now[:3, 3] = np.array(t_g2b[0]).reshape(3)\n",
    "print(T_BG_now)\n",
    "\n",
    "# Build camera->gripper, then camera->base:\n",
    "T_GC = np.eye(4); T_GC[:3,:3]=R_cam2gripper; T_GC[:3,3]=t_cam2gripper.reshape(3)\n",
    "T_BC = T_BG_now @ T_GC\n",
    "\n",
    "# Convert a camera point (meters) to base:\n",
    "p_cam = np.array([0.05, 0.00, 0.40, 1.0])\n",
    "p_base = (T_BC @ p_cam)[:3]\n",
    "\n",
    "\n",
    "\n",
    "print(\"p_base:\", p_base)\n",
    "\n",
    "\n"
   ]
  }
 ],
 "metadata": {
  "kernelspec": {
   "display_name": "base",
   "language": "python",
   "name": "python3"
  },
  "language_info": {
   "codemirror_mode": {
    "name": "ipython",
    "version": 3
   },
   "file_extension": ".py",
   "mimetype": "text/x-python",
   "name": "python",
   "nbconvert_exporter": "python",
   "pygments_lexer": "ipython3",
   "version": "3.12.7"
  }
 },
 "nbformat": 4,
 "nbformat_minor": 5
}
