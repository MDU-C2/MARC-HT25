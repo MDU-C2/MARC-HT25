{
 "cells": [
  {
   "cell_type": "code",
   "execution_count": null,
   "id": "ea6ba036",
   "metadata": {},
   "outputs": [
    {
     "name": "stdout",
     "output_type": "stream",
     "text": [
      "HELLO WORLD\n"
     ]
    }
   ],
   "source": [
    "import numpy as np\n",
    "import cv2 as cv"
   ]
  },
  {
   "cell_type": "code",
   "execution_count": 11,
   "id": "050cfd36",
   "metadata": {},
   "outputs": [],
   "source": [
    "# Ground truth  (camera -> gripper), test value\n",
    "R_true = np.array([\n",
    "    [ 0.98106026, -0.17790228, -0.07662598],\n",
    "    [ 0.17298739,  0.98266603, -0.06665455],\n",
    "    [ 0.08715574,  0.05213680,  0.99482945]\n",
    "], dtype=np.float64)\n",
    "\n",
    "t_true = np.array([[0.02],\n",
    "                   [0.01],\n",
    "                   [0.06]], dtype=np.float64)  # meter\n",
    "\n",
    "\n",
    "R_gripper2base = [\n",
    "    np.array([[ 0.9961947 , -0.08715574,  0.        ],\n",
    "              [ 0.08715574,  0.9961947 ,  0.        ],\n",
    "              [ 0.        ,  0.        ,  1.        ]]),\n",
    "    np.array([[ 0.99240388,  0.        , -0.1227878 ],\n",
    "              [ 0.        ,  1.        ,  0.        ],\n",
    "              [ 0.1227878 ,  0.        ,  0.99240388]]),\n",
    "    np.array([[ 0.97629601, -0.16903085,  0.13497501],\n",
    "              [ 0.17364818,  0.98480775, -0.        ],\n",
    "              [-0.12434494,  0.02131939,  0.99201978]]),\n",
    "    np.array([[ 0.99756405,  0.06975647,  0.        ],\n",
    "              [-0.06975647,  0.99756405,  0.        ],\n",
    "              [ 0.        ,  0.        ,  1.        ]]),\n",
    "    np.array([[ 0.99240388,  0.1227878 ,  0.        ],\n",
    "              [-0.1227878 ,  0.99240388,  0.        ],\n",
    "              [ 0.        ,  0.        ,  1.        ]]),\n",
    "    np.array([[ 0.9863613 ,  0.         ,  0.16439899],\n",
    "              [ 0.        ,  0.9945219 , -0.10452846],\n",
    "              [-0.16439899,  0.10452846,  0.981\n",
    "              ]])\n",
    "]\n",
    "\n",
    "t_gripper2base = [\n",
    "    np.array([[0.10],[ 0.00],[0.20]]),\n",
    "    np.array([[0.12],[ 0.02],[0.22]]),\n",
    "    np.array([[0.08],[-0.03],[0.25]]),\n",
    "    np.array([[0.15],[ 0.01],[0.18]]),\n",
    "    np.array([[0.11],[-0.04],[0.21]]),\n",
    "    np.array([[0.09],[ 0.03],[0.23]])\n",
    "]\n",
    "\n",
    "# Vision: target -> camera \n",
    "# These come from the camera seeing a fixed board in the scene\n",
    "R_target2cam = [\n",
    "    np.array([ 0.96781773, -0.24399863,  0.06011414]),\n",
    "    np.array([ 0.95704387, -0.28627566,  0.04407752]),\n",
    "    np.array([ 0.95195702, -0.30296508,  0.04078652]),\n",
    "    np.array([ 0.96271821, -0.26583009,  0.04933414]),\n",
    "    np.array([ 0.96480394, -0.25370806,  0.06902866]),\n",
    "    np.array([ 0.9537564 , -0.29795655,  0.04392231])\n",
    "]\n",
    "\n",
    "t_target2cam = [\n",
    "    np.array([[-0.15474774],[ 0.11533869],[ 0.10747463]]),\n",
    "    np.array([[-0.16007447],[ 0.11658648],[ 0.07905514]]),\n",
    "    np.array([[-0.1248036 ],[ 0.13808412],[ 0.06609347]]),\n",
    "    np.array([[-0.1810793 ],[ 0.09411646],[ 0.10802077]]),\n",
    "    np.array([[-0.12819993],[ 0.09903281],[ 0.09630067]]),\n",
    "    np.array([[-0.13995586],[ 0.12050253],[ 0.07916439]])\n",
    "]\n"
   ]
  },
  {
   "cell_type": "code",
   "execution_count": 12,
   "id": "dcdff6d5",
   "metadata": {},
   "outputs": [
    {
     "name": "stdout",
     "output_type": "stream",
     "text": [
      "rotation vec(?): [[-0.90158992  0.11411463  0.41726905]\n",
      " [ 0.4224316   0.02442187  0.90606573]\n",
      " [ 0.09320487  0.99316737 -0.07022414]]\n",
      "Translation vector: [[ 0.73992168]\n",
      " [-0.48307595]\n",
      " [ 0.53845208]]\n",
      "[[-0.90158992  0.11411463  0.41726905  0.73992168]\n",
      " [ 0.4224316   0.02442187  0.90606573  0.73992168]\n",
      " [ 0.09320487  0.99316737 -0.07022414  0.73992168]\n",
      " [ 0.          0.          0.          1.        ]]\n",
      "Translation coordinates: [-0.1624568192229674, 9.341071057379082, 6.673381247005028]\n"
     ]
    }
   ],
   "source": [
    "import numpy as np\n",
    "import cv2 as cv\n",
    "\n",
    "\n",
    "R_matrix, t_vec = cv.calibrateHandEye(R_gripper2base, t_gripper2base, R_target2cam, t_target2cam, method=cv.CALIB_HAND_EYE_DANIILIDIS)\n",
    "print(\"rotation vec(?):\", R_matrix)\n",
    "print(\"Translation vector:\", t_vec)\n",
    "\n",
    "\n",
    "rotation_matrix = R_matrix\n",
    "translation_vector = t_vec[0]\n",
    "\n",
    "\n",
    "def convert(x ,y ,z):\n",
    "    \n",
    "    # Recognize object coordinates by the depth camera\n",
    "    obj_camera_coordinates = np.array([x, y, z])\n",
    "\n",
    "    # Convert the rotation matrix and the translation vector into a homogeneous transformation matrix\n",
    "    T_camera_to_base_effector = np.eye(4)\n",
    "    T_camera_to_base_effector[:3, :3] = rotation_matrix\n",
    "    T_camera_to_base_effector[:3, 3] = translation_vector\n",
    "    print(T_camera_to_base_effector)\n",
    "\n",
    "    # Compute the pose of the object against the base\n",
    "    obj_camera_coordinates_homo = np.append(obj_camera_coordinates, [1])  # Convert object coordinates to homogeneous coordinates\n",
    "\n",
    "    obj_base_effector_coordinates_homo = T_camera_to_base_effector.dot(obj_camera_coordinates_homo)\n",
    "    obj_base_coordinates = obj_base_effector_coordinates_homo[:3]  # Extract coordinates x, y, z of the object from the homogeneous coordinates\n",
    "\n",
    "    # Combine results\n",
    "\n",
    "    return list(obj_base_coordinates)\n",
    "\n",
    "print(\"Translation coordinates:\", convert(5,6,7))"
   ]
  }
 ],
 "metadata": {
  "kernelspec": {
   "display_name": "base",
   "language": "python",
   "name": "python3"
  },
  "language_info": {
   "codemirror_mode": {
    "name": "ipython",
    "version": 3
   },
   "file_extension": ".py",
   "mimetype": "text/x-python",
   "name": "python",
   "nbconvert_exporter": "python",
   "pygments_lexer": "ipython3",
   "version": "3.12.7"
  }
 },
 "nbformat": 4,
 "nbformat_minor": 5
}
