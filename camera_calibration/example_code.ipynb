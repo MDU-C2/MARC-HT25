{
 "cells": [
  {
   "cell_type": "code",
   "execution_count": null,
   "id": "8f2e8815",
   "metadata": {},
   "outputs": [],
   "source": [
    "import numpy as np\n",
    "import cv2 as cv"
   ]
  },
  {
   "cell_type": "code",
   "execution_count": null,
   "id": "cb0e9a3b",
   "metadata": {},
   "outputs": [],
   "source": [
    "def calibrate_eye_hand(R_gripper2base, t_gripper2base, R_target2cam, t_target2cam, eye_to_hand=True):\n",
    "\n",
    "    if eye_to_hand:\n",
    "        # change coordinates from gripper2base to base2gripper\n",
    "        R_base2gripper, t_base2gripper = [], []\n",
    "        for R, t in zip(R_gripper2base, t_gripper2base):\n",
    "            R_b2g = R.T\n",
    "            t_b2g = -R_b2g @ t\n",
    "            R_base2gripper.append(R_b2g)\n",
    "            t_base2gripper.append(t_b2g)\n",
    "        \n",
    "        # change parameters values\n",
    "        R_gripper2base = R_base2gripper\n",
    "        t_gripper2base = t_base2gripper\n",
    "\n",
    "    # calibrate\n",
    "    R, t = cv2.calibrateHandEye(\n",
    "        R_gripper2base=R_gripper2base,\n",
    "        t_gripper2base=t_gripper2base,\n",
    "        R_target2cam=R_target2cam,\n",
    "        t_target2cam=t_target2cam,\n",
    "    )\n",
    "\n",
    "    return R, t"
   ]
  }
 ],
 "metadata": {
  "language_info": {
   "name": "python"
  }
 },
 "nbformat": 4,
 "nbformat_minor": 5
}
